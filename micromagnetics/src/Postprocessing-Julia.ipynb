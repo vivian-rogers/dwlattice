{
 "cells": [
  {
   "cell_type": "code",
   "execution_count": 1,
   "metadata": {},
   "outputs": [],
   "source": [
    "using PyCall\n",
    "using Pandas: read_pickle"
   ]
  },
  {
   "cell_type": "code",
   "execution_count": 2,
   "metadata": {},
   "outputs": [],
   "source": [
    "py\"\"\"\n",
    "import numpy as np\n",
    "import matplotlib.pyplot as plt\n",
    "from scipy.interpolate import Rbf\n",
    "\n",
    "def read_mumax3_table(filename):\n",
    "    #Puts the mumax3 output table in a pandas dataframe\n",
    "\n",
    "    from pandas import read_table\n",
    "    \n",
    "    table = read_table(filename)\n",
    "    table.columns = ' '.join(table.columns).split()[1::2]\n",
    "    \n",
    "    return table\n",
    "\n",
    "def read_mumax3_ovffiles(outputdir):\n",
    "\n",
    "    # Load all ovffiles in outputdir into a dictionary of numpy arrays with the ovffilename (without extension) as key\n",
    "\n",
    "    from subprocess import run, PIPE, STDOUT\n",
    "    from glob import glob\n",
    "    from os import path\n",
    "    from numpy import load\n",
    "\n",
    "    # convert all ovf files in the output directory to numpy files\n",
    "    p = run([\"mumax3-convert\",\"-numpy\",outputdir+\"/*.ovf\"], stdout=PIPE, stderr=STDOUT)\n",
    "    if p.returncode != 0:\n",
    "        print(p.stdout.decode('UTF-8'))\n",
    "\n",
    "    # read the numpy files (the converted ovf files)\n",
    "    fields = {}\n",
    "    for npyfile in glob(outputdir+\"/*.npy\"):\n",
    "        key = path.splitext(path.basename(npyfile))[0]\n",
    "        fields[key] = load(npyfile)\n",
    "    \n",
    "    return fields\n",
    "\"\"\""
   ]
  },
  {
   "cell_type": "code",
   "execution_count": 3,
   "metadata": {},
   "outputs": [
    {
     "data": {
      "text/plain": [
       "\"a(0.0)_temp(150)\""
      ]
     },
     "execution_count": 3,
     "metadata": {},
     "output_type": "execute_result"
    }
   ],
   "source": [
    "# PATH PARAMETERS\n",
    "rawDataPath = \"/home/jiwoop/rnf/tacc/outputs/alp0temp150.mx3-general-mumax3.sl-13-39_Tuesday_August_29_2023/alp0temp150.out\"\n",
    "dataPath = replace(rawDataPath, \".out\" => \"\")\n",
    "\n",
    "# NAME OF PROCESSED DATA\n",
    "label = \"a(0.0)_temp(150)\""
   ]
  },
  {
   "cell_type": "code",
   "execution_count": 4,
   "metadata": {},
   "outputs": [
    {
     "data": {
      "text/plain": [
       "1.0e-10"
      ]
     },
     "execution_count": 4,
     "metadata": {},
     "output_type": "execute_result"
    }
   ],
   "source": [
    "# NUMERICAL PARAMETERS\n",
    "fmax = 2e9       # maximum frequency (in Hz) of the sinc pulse\n",
    "T    = 400e-9      # simulation time (longer -> better frequency resolution)\n",
    "dt   = 100e-12     # the sample time"
   ]
  },
  {
   "cell_type": "code",
   "execution_count": 5,
   "metadata": {},
   "outputs": [
    {
     "ename": "",
     "evalue": "",
     "output_type": "error",
     "traceback": [
      "\u001b[1;31mCannot execute code, session has been disposed. Please try restarting the Kernel."
     ]
    },
    {
     "ename": "",
     "evalue": "",
     "output_type": "error",
     "traceback": [
      "\u001b[1;31mThe Kernel crashed while executing code in the the current cell or a previous cell. Please review the code in the cell(s) to identify a possible cause of the failure. Click <a href='https://aka.ms/vscodeJupyterKernelCrash'>here</a> for more info. View Jupyter <a href='command:jupyter.viewOutput'>log</a> for further details."
     ]
    }
   ],
   "source": [
    "\"\"\"\n",
    "Extract table and fields, after simulation has run on TACC, etc.\n",
    "\"\"\"\n",
    "name = dataPath\n",
    "\n",
    "scriptfile = name * \".txt\" \n",
    "outputdir  = name * \".out\"\n",
    "\n",
    "table = py\"read_mumax3_table\"(outputdir * \"/table.txt\") \n",
    "fields = py\"read_mumax3_ovffiles\"(outputdir)"
   ]
  },
  {
   "cell_type": "code",
   "execution_count": 9,
   "metadata": {},
   "outputs": [],
   "source": [
    "field = read_pickle(\"a(0.0)_temp(150)Field.pkl\")"
   ]
  }
 ],
 "metadata": {
  "kernelspec": {
   "display_name": "Julia 1.9.0",
   "language": "julia",
   "name": "julia-1.9"
  },
  "language_info": {
   "file_extension": ".jl",
   "mimetype": "application/julia",
   "name": "julia",
   "version": "1.9.0"
  }
 },
 "nbformat": 4,
 "nbformat_minor": 4
}
